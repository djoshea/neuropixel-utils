{
 "cells": [
  {
   "cell_type": "markdown",
   "metadata": {},
   "source": [
    "## Startup\n",
    "Replace with path to `neuropixel-utils` repo"
   ]
  },
  {
   "cell_type": "code",
   "execution_count": 5,
   "metadata": {},
   "outputs": [],
   "source": [
    "addpath(genpath('~/code/neuropixel-utils'))"
   ]
  },
  {
   "cell_type": "markdown",
   "metadata": {},
   "source": [
    "Set the default channel map file, this one is located in `neuropixel-utils/map_files`"
   ]
  },
  {
   "cell_type": "code",
   "execution_count": 8,
   "metadata": {},
   "outputs": [],
   "source": [
    "setenv('NEUROPIXEL_MAP_FILE', which('neuropixPhase3A_kilosortChanMap.mat')); "
   ]
  },
  {
   "cell_type": "markdown",
   "metadata": {},
   "source": [
    "This part is optional. You can arrange your data however you like. Below we'll use `Neuropixel.generatePath` to generate paths automatically below this root folder:"
   ]
  },
  {
   "cell_type": "code",
   "execution_count": 12,
   "metadata": {},
   "outputs": [],
   "source": [
    "setenv('NEUROPIXEL_DATAROOT', '~/data/neuropixel');"
   ]
  },
  {
   "cell_type": "markdown",
   "metadata": {},
   "source": [
    "# Load Raw Imec dataset\n",
    "\n",
    "Here we construct the path to the original, raw dataset as it was recorded by SpikeGLX. You don't need to use this folder nesting structure."
   ]
  },
  {
   "cell_type": "code",
   "execution_count": 17,
   "metadata": {},
   "outputs": [
    {
     "name": "stdout",
     "output_type": "stream",
     "text": [
      "\n",
      "imecFile =\n",
      "\n",
      "    '~/data/neuropixel/TestSubject/raw_datasets/2018-12-02/TestSubject_20181202_01.imec.ap.bin'\n",
      "\n"
     ]
    }
   ],
   "source": [
    "subject = 'TestSubject';\n",
    "dateStr = '2018-12-02';\n",
    "rawBinFile = 'TestSubject_20181202_01.imec.ap.bin';\n",
    "imecFile = Neuropixel.generatePath(subject, 'raw_datasets', dateStr, rawBinFile)"
   ]
  },
  {
   "cell_type": "markdown",
   "metadata": {},
   "source": [
    "We then use this path to construct an ImecDataset object which will facilitate access to the raw data and load the metadata from disk. You can pass the path to the imec dataset in several ways:\n",
    "* path to raw `.imec.ap.bin` file or `imec.lf.bin` file\n",
    "* path to the containing directory, if there is only one set of `.bin` files within"
   ]
  },
  {
   "cell_type": "code",
   "execution_count": 19,
   "metadata": {},
   "outputs": [
    {
     "name": "stdout",
     "output_type": "stream",
     "text": [
      "\n",
      "imec = \n",
      "\n",
      "  ImecDataset with properties:\n",
      "\n",
      "              pathRoot: '~/data/neuropixel/TestSubject/raw_datasets/2018-12-02'\n",
      "              fileStem: 'TestSubject_20181202_01'\n",
      "          creationTime: 7.3722e+05\n",
      "             nChannels: 385\n",
      "            fileTypeAP: 'ap'\n",
      "            nSamplesAP: 112412208\n",
      "            nSamplesLF: 0\n",
      "                  fsAP: 30000\n",
      "                  fsLF: NaN\n",
      "      highPassFilterHz: 300\n",
      "                apGain: 500\n",
      "               apRange: [-0.6000 0.6000]\n",
      "                lfGain: 250\n",
      "               lfRange: [-0.6000 0.6000]\n",
      "               adcBits: 10\n",
      "            channelMap: [1x1 Neuropixel.ChannelMap]\n",
      "      syncChannelIndex: 385\n",
      "          syncInAPFile: 1\n",
      "           badChannels: []\n",
      "          syncBitNames: {16x1 cell}\n",
      "               syncRaw: []\n",
      "        bytesPerSample: 2\n",
      "                 hasAP: 1\n",
      "                 hasLF: 0\n",
      "        channelMapFile: '/Users/djoshea/npl/neuropixel-utils/map_files/neuropixPhase3A_kilosortChanMap.mat'\n",
      "        mappedChannels: [384x1 double]\n",
      "       nChannelsMapped: 384\n",
      "     connectedChannels: [374x1 double]\n",
      "    nChannelsConnected: 374\n",
      "          goodChannels: [374x1 double]\n",
      "         nGoodChannels: 374\n",
      "             nSyncBits: 16\n",
      "                fileAP: 'TestSubject_20181202_01.imec.ap.bin'\n",
      "                pathAP: '~/data/neuropixel/TestSubject/raw_datasets/2018-12-02/TestSubject_20181202_01.imec.ap.bin'\n",
      "            fileAPMeta: 'TestSubject_20181202_01.imec.ap.meta'\n",
      "            pathAPMeta: '~/data/neuropixel/TestSubject/raw_datasets/2018-12-02/TestSubject_20181202_01.imec.ap.meta'\n",
      "                fileLF: 'TestSubject_20181202_01.imec.lf.bin'\n",
      "                pathLF: '~/data/neuropixel/TestSubject/raw_datasets/2018-12-02/TestSubject_20181202_01.imec.lf.bin'\n",
      "            fileLFMeta: 'TestSubject_20181202_01.imec.lf.meta'\n",
      "            pathLFMeta: '~/data/neuropixel/TestSubject/raw_datasets/2018-12-02/TestSubject_20181202_01.imec.lf.meta'\n",
      "              fileSync: 'TestSubject_20181202_01.imec.ap.bin'\n",
      "              pathSync: '~/data/neuropixel/TestSubject/raw_datasets/2018-12-02/TestSubject_20181202_01.imec.ap.bin'\n",
      "        fileSyncCached: 'TestSubject_20181202_01.sync.mat'\n",
      "        pathSyncCached: '~/data/neuropixel/TestSubject/raw_datasets/2018-12-02/TestSubject_20181202_01.sync.mat'\n",
      "       creationTimeStr: '08-Jun-2018 12:09:07'\n",
      "           apScaleToUv: 2.3438\n",
      "           lfScaleToUv: 2.3438\n",
      "\n"
     ]
    }
   ],
   "source": [
    "imec = Neuropixel.ImecDataset(imecFile)"
   ]
  },
  {
   "cell_type": "markdown",
   "metadata": {},
   "source": [
    "## Specifying the channel map manually\n",
    "\n",
    "By default, the channel map will be loaded from whatever the environment variable `NEUROPIXEL_MAP_FILE` is set to, which we set above. If you want to manaully specify a channel map, pass it in as:\n",
    "\n",
    "```matlab\n",
    "imec = Neuropixel.ImecDataset(imecFile, 'channelMap', '/path/to/channelMap.mat');\n",
    "```"
   ]
  },
  {
   "cell_type": "markdown",
   "metadata": {},
   "source": [
    "## Explore the loaded metadata"
   ]
  },
  {
   "cell_type": "markdown",
   "metadata": {},
   "source": [
    "Here we see that this option 3A probe has 384 total channels (saved in the `.imec.ap.bin` file), and that 374 of these channels are connected, namely those listed in `.connectedChannels`."
   ]
  },
  {
   "cell_type": "code",
   "execution_count": 20,
   "metadata": {},
   "outputs": [
    {
     "name": "stdout",
     "output_type": "stream",
     "text": [
      "\n",
      "ans = \n",
      "\n",
      "  ChannelMap with properties:\n",
      "\n",
      "                 file: '/Users/djoshea/npl/neuropixel-utils/map_files/neuropixPhase3A_kilosortChanMap.mat'\n",
      "              chanMap: [384x1 double]\n",
      "          chanMap0ind: [384x1 double]\n",
      "            connected: [384x1 logical]\n",
      "             shankInd: [384x1 double]\n",
      "              xcoords: [384x1 double]\n",
      "              ycoords: [384x1 double]\n",
      "              zcoords: [384x1 double]\n",
      "            nChannels: 384\n",
      "    connectedChannels: [374x1 double]\n",
      "    referenceChannels: [10x1 double]\n",
      "             yspacing: 20\n",
      "             xspacing: 16\n",
      "             zspacing: [0x1 double]\n",
      "\n"
     ]
    }
   ],
   "source": [
    "imec.channelMap"
   ]
  },
  {
   "cell_type": "markdown",
   "metadata": {},
   "source": [
    "We can determine the duration of the recording as:"
   ]
  },
  {
   "cell_type": "code",
   "execution_count": 26,
   "metadata": {},
   "outputs": [
    {
     "name": "stdout",
     "output_type": "stream",
     "text": [
      "Duration of recording TestSubject_20181202_01 is 62.4512 minutes\n"
     ]
    }
   ],
   "source": [
    "fprintf('Duration of recording %s is %g minutes\\n', imec.fileStem, imec.nSamplesAP / imec.fsAP / 60)"
   ]
  },
  {
   "cell_type": "markdown",
   "metadata": {},
   "source": [
    "# Accessing the raw AP data\n",
    "\n",
    "You can access the raw data in several ways (see the full list of methods using `methods(imec)`). The most straightforward is to memory map the full binary data:"
   ]
  },
  {
   "cell_type": "code",
   "execution_count": null,
   "metadata": {},
   "outputs": [],
   "source": []
  },
  {
   "cell_type": "code",
   "execution_count": null,
   "metadata": {},
   "outputs": [],
   "source": [
    "NeuropixelExpt.DataLoad.setImecSyncBitNames(imec);\n",
    "\n",
    "if ~isempty(p.Results.badChannels)\n",
    "    imec.markBadChannels(p.Results.badChannels);\n",
    "end\n",
    "\n",
    "rmsBadChannels = imec.markBadChannelsByRMS('rmsRange', [3 100]);\n",
    "debug('Marking %d channels bad based on rms\\n', numel(rmsBadChannels));\n",
    "\n",
    "\n",
    "% save the bad channels and sync bit names to the meta file\n",
    "imec.writeModifiedAPMeta();\n",
    "\n",
    "% CAR the file and flush the unused sync bits to the cleaned_datasets\n",
    "% folder\n",
    "cleanedPath = NeuropixelExpt.generatePath(subject, 'cleaned_datasets', dateStr, p.Results.cleanedBinFile);\n",
    "\n",
    "debug('Writing CAR version at %s\\n', cleanedPath);\n",
    "extraMeta = struct();\n",
    "extraMeta.run_clearUnusedSyncBits = true;\n",
    "extraMeta.run_detectAndMarkStimArtifactWindows = true;\n",
    "fnList = {@NeuropixelExpt.DataClean.clearUnusedSyncBits; @Neuropixel.DataProcessFn.commonAverageReference};\n",
    "imec = imec.saveTransformedDataset(cleanedPath, ...\n",
    "    'goodChannelsOnly', false, 'writeSyncSeparate', false, ...\n",
    "    'transformAP', fnList, 'extraMeta', extraMeta);\n",
    "\n",
    "% sym link into ks directory\n",
    "ksPath = NeuropixelExpt.generatePath(subject, 'ks', dateStr, p.Results.cleanedBinFile);\n",
    "debug('Sym-linking to %s\\n', ksPath);\n",
    "imec = imec.symLinkAPIntoDirectory(ksPath);\n",
    "\n",
    "% and run Kilosort\n",
    "debug('Running Kilosort\\n');\n",
    "Neuropixel.runKilosort2(imec);\n",
    "\n",
    "info.rawPath = imecFile;\n",
    "info.cleanedPath = cleanedPath;\n",
    "info.ksPath = ksPath;\n",
    "\n",
    "end"
   ]
  }
 ],
 "metadata": {
  "kernelspec": {
   "display_name": "iMatlab",
   "language": "matlab",
   "name": "imatlab"
  },
  "language_info": {
   "codemirror_mode": "octave",
   "file_extension": ".m",
   "mimetype": "text/x-matlab",
   "name": "matlab",
   "nbconvert_exporter": "imatlab._exporter.MatlabExporter",
   "pygments_lexer": "matlab",
   "version": "9.5.0.944444 (R2018b)"
  }
 },
 "nbformat": 4,
 "nbformat_minor": 2
}